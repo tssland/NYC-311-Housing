{
 "cells": [
  {
   "cell_type": "markdown",
   "metadata": {},
   "source": [
    "# NYC Complaint Data Analysis\n",
    "\n",
    "\n",
    "The people of New Yorker use the 311 system to report complaints about the non-emergency problems to local authorities. Various agencies in NY are assigned these problems. The Department of Housing Preservation and Development of New York City is the agency that processes 311 compliants that are related to housing and buildins. \n",
    "\n",
    "In the last few years, the number of 311 complaints coming to the Department of Housing Preservation and Development has increased significantly. Although these complaints are not necessarily urgent, the large volume of complaints and the sudden increase is impacting the overall efficiency of operations of the agency.\n",
    "\n",
    "Therefore, a solution is presented here to help the Department of Housing Preservation and Development to manage their large volume of 311 complaints they are receiving every year.\n",
    "\n",
    "The agency needs severals questions, which are answered below:\n",
    "\n",
    "### 1. Which type of complaint should the Department of Housing Preservation and Development of New York City focus on first?"
   ]
  },
  {
   "cell_type": "markdown",
   "metadata": {},
   "source": [
    "To address our first problem, we first need to do some preparations and explatory data analysis."
   ]
  },
  {
   "cell_type": "markdown",
   "metadata": {},
   "source": [
    "##### Preparations"
   ]
  },
  {
   "cell_type": "markdown",
   "metadata": {},
   "source": [
    "Let's make sure the SODA package for Python is installed and import all necassery packages, libraries and load the files needed for our EDA:"
   ]
  },
  {
   "cell_type": "code",
   "execution_count": 1,
   "metadata": {
    "scrolled": true
   },
   "outputs": [
    {
     "name": "stdout",
     "output_type": "stream",
     "text": [
      "Requirement already satisfied: sodapy in ./opt/anaconda3/lib/python3.7/site-packages (2.0.0)\r\n",
      "Requirement already satisfied: requests>=2.20.0 in ./opt/anaconda3/lib/python3.7/site-packages (from sodapy) (2.22.0)\r\n",
      "Requirement already satisfied: urllib3!=1.25.0,!=1.25.1,<1.26,>=1.21.1 in ./opt/anaconda3/lib/python3.7/site-packages (from requests>=2.20.0->sodapy) (1.24.2)\r\n",
      "Requirement already satisfied: idna<2.9,>=2.5 in ./opt/anaconda3/lib/python3.7/site-packages (from requests>=2.20.0->sodapy) (2.8)\r\n",
      "Requirement already satisfied: chardet<3.1.0,>=3.0.2 in ./opt/anaconda3/lib/python3.7/site-packages (from requests>=2.20.0->sodapy) (3.0.4)\r\n",
      "Requirement already satisfied: certifi>=2017.4.17 in ./opt/anaconda3/lib/python3.7/site-packages (from requests>=2.20.0->sodapy) (2019.9.11)\r\n"
     ]
    }
   ],
   "source": [
    "! pip install sodapy\n",
    "from sodapy import Socrata\n",
    "\n",
    "# linear algebra\n",
    "import numpy as np\n",
    "# data processing\n",
    "import pandas as pd\n",
    "# scientific computing and technical computing\n",
    "import scipy\n",
    "# statistical data visualization\n",
    "import seaborn as sns\n",
    "# Matplotlib is a Python 2D plotting library\n",
    "import matplotlib.pyplot as plt\n",
    "%matplotlib inline\n",
    "# to make HTTP requests such as to use GET method\n",
    "import requests\n",
    "# to use a single, clean Python 3.x-compatible codebase to support both Python 2 \n",
    "import future"
   ]
  },
  {
   "cell_type": "code",
   "execution_count": 2,
   "metadata": {},
   "outputs": [
    {
     "name": "stderr",
     "output_type": "stream",
     "text": [
      "WARNING:root:Requests made without an app_token will be subject to strict throttling limits.\n"
     ]
    },
    {
     "data": {
      "text/plain": [
       "['Unique Key',\n",
       " 'Created Date',\n",
       " 'Closed Date',\n",
       " 'Agency',\n",
       " 'Agency Name',\n",
       " 'Complaint Type',\n",
       " 'Descriptor',\n",
       " 'Location Type',\n",
       " 'Incident Zip',\n",
       " 'Incident Address',\n",
       " 'Street Name',\n",
       " 'Cross Street 1',\n",
       " 'Cross Street 2',\n",
       " 'Intersection Street 1',\n",
       " 'Intersection Street 2',\n",
       " 'Address Type',\n",
       " 'City',\n",
       " 'Landmark',\n",
       " 'Facility Type',\n",
       " 'Status',\n",
       " 'Due Date',\n",
       " 'Resolution Description',\n",
       " 'Resolution Action Updated Date',\n",
       " 'Community Board',\n",
       " 'BBL',\n",
       " 'Borough',\n",
       " 'X Coordinate (State Plane)',\n",
       " 'Y Coordinate (State Plane)',\n",
       " 'Open Data Channel Type',\n",
       " 'Park Facility Name',\n",
       " 'Park Borough',\n",
       " 'Vehicle Type',\n",
       " 'Taxi Company Borough',\n",
       " 'Taxi Pick Up Location',\n",
       " 'Bridge Highway Name',\n",
       " 'Bridge Highway Direction',\n",
       " 'Road Ramp',\n",
       " 'Bridge Highway Segment',\n",
       " 'Latitude',\n",
       " 'Longitude',\n",
       " 'Location',\n",
       " 'Zip Codes',\n",
       " 'Community Districts',\n",
       " 'Borough Boundaries',\n",
       " 'City Council Districts',\n",
       " 'Police Precincts']"
      ]
     },
     "execution_count": 2,
     "metadata": {},
     "output_type": "execute_result"
    }
   ],
   "source": [
    "# Set up Socrata domain/identifier for NYC 311\n",
    "domain = \"data.cityofnewyork.us\" \n",
    "dataset_id = \"erm2-nwe9\"\n",
    "\n",
    "# Unauthenticated client only works with public data sets. \n",
    "# Note 'None' in place of application token, and no username or password:\n",
    "client = Socrata(domain,None)\n",
    "\n",
    "NYC311 = client.get_metadata(dataset_id)\n",
    "[x['name'] for x in NYC311['columns']]"
   ]
  },
  {
   "cell_type": "markdown",
   "metadata": {},
   "source": [
    "Since we are interested in just for Department of Housing Preservation and Development, let’s create an inquiry only for this agency by using simple filtering such as Agency=HPD. Also, when we look at the name of all columns, we can figure out that we do not need to use all 41 columns for this study. Therefore, it is better to use $select parameter that is similar to a SELECT in SQL. We will be interested in the columns that are Unique Key, Created Date, Closed Date, Complaint Type, Location Type, Incident Zip, Incident Address, Street Name, Address Type, City, Status, Resolution Description, Borough, Latitude, Longitude, Location."
   ]
  },
  {
   "cell_type": "code",
   "execution_count": 3,
   "metadata": {},
   "outputs": [],
   "source": [
    "# Select rows, date range, conditional column value, and maximum case limit.\n",
    "selected_columns = \"\"\"\n",
    "    unique_key, \n",
    "    created_date,\n",
    "    closed_date,\n",
    "    complaint_type,\n",
    "    location_type,\n",
    "    incident_zip, \n",
    "    incident_address,\n",
    "    street_name, \n",
    "    address_type,\n",
    "    city,  \n",
    "    status,\n",
    "    resolution_description,\n",
    "    borough,\n",
    "    latitude,\n",
    "    longitude,\n",
    "    location\n",
    "\"\"\"\n",
    "\n",
    "# Define data request with query\n",
    "HPD = client.get(dataset_id, Agency = \"HPD\", select=selected_columns, order = \"unique_key\", limit = 10000000)\n",
    "\n",
    "# Convert to Pandas dataframe and print head\n",
    "HPD_df = pd.DataFrame.from_records(HPD)"
   ]
  },
  {
   "cell_type": "markdown",
   "metadata": {},
   "source": [
    "Calling the data from the web is taking too much time. Therefore, it is  more efficient to save it in a csv format."
   ]
  },
  {
   "cell_type": "code",
   "execution_count": 4,
   "metadata": {},
   "outputs": [],
   "source": [
    "HPD_df.to_csv(\"HPD_df.csv\")"
   ]
  },
  {
   "cell_type": "code",
   "execution_count": 5,
   "metadata": {},
   "outputs": [],
   "source": [
    "# Read csv data\n",
    "HPD_df = pd.read_csv('HPD_df.csv', parse_dates = ['created_date', 'closed_date'])"
   ]
  },
  {
   "cell_type": "code",
   "execution_count": 6,
   "metadata": {
    "scrolled": true
   },
   "outputs": [
    {
     "data": {
      "text/plain": [
       "Index(['Unnamed: 0', 'unique_key', 'created_date', 'closed_date',\n",
       "       'complaint_type', 'location_type', 'incident_zip', 'incident_address',\n",
       "       'street_name', 'address_type', 'city', 'status',\n",
       "       'resolution_description', 'borough', 'latitude', 'longitude',\n",
       "       'location'],\n",
       "      dtype='object')"
      ]
     },
     "execution_count": 6,
     "metadata": {},
     "output_type": "execute_result"
    }
   ],
   "source": [
    "# Print the columns name\n",
    "HPD_df.columns"
   ]
  },
  {
   "cell_type": "code",
   "execution_count": 7,
   "metadata": {},
   "outputs": [
    {
     "data": {
      "text/html": [
       "<div>\n",
       "<style scoped>\n",
       "    .dataframe tbody tr th:only-of-type {\n",
       "        vertical-align: middle;\n",
       "    }\n",
       "\n",
       "    .dataframe tbody tr th {\n",
       "        vertical-align: top;\n",
       "    }\n",
       "\n",
       "    .dataframe thead th {\n",
       "        text-align: right;\n",
       "    }\n",
       "</style>\n",
       "<table border=\"1\" class=\"dataframe\">\n",
       "  <thead>\n",
       "    <tr style=\"text-align: right;\">\n",
       "      <th></th>\n",
       "      <th>Unnamed: 0</th>\n",
       "      <th>unique_key</th>\n",
       "      <th>created_date</th>\n",
       "      <th>closed_date</th>\n",
       "      <th>complaint_type</th>\n",
       "      <th>location_type</th>\n",
       "      <th>incident_zip</th>\n",
       "      <th>incident_address</th>\n",
       "      <th>street_name</th>\n",
       "      <th>address_type</th>\n",
       "      <th>city</th>\n",
       "      <th>status</th>\n",
       "      <th>resolution_description</th>\n",
       "      <th>borough</th>\n",
       "      <th>latitude</th>\n",
       "      <th>longitude</th>\n",
       "      <th>location</th>\n",
       "    </tr>\n",
       "  </thead>\n",
       "  <tbody>\n",
       "    <tr>\n",
       "      <td>0</td>\n",
       "      <td>0</td>\n",
       "      <td>15629728</td>\n",
       "      <td>2010-01-01</td>\n",
       "      <td>2010-01-12</td>\n",
       "      <td>HEATING</td>\n",
       "      <td>RESIDENTIAL BUILDING</td>\n",
       "      <td>11210.0</td>\n",
       "      <td>3101 FOSTER AVENUE</td>\n",
       "      <td>FOSTER AVENUE</td>\n",
       "      <td>ADDRESS</td>\n",
       "      <td>BROOKLYN</td>\n",
       "      <td>Closed</td>\n",
       "      <td>The Department of Housing Preservation and Dev...</td>\n",
       "      <td>Unspecified</td>\n",
       "      <td>40.638696</td>\n",
       "      <td>-73.946969</td>\n",
       "      <td>{'latitude': '40.6386960194481', 'longitude': ...</td>\n",
       "    </tr>\n",
       "    <tr>\n",
       "      <td>1</td>\n",
       "      <td>1</td>\n",
       "      <td>15629899</td>\n",
       "      <td>2010-01-01</td>\n",
       "      <td>2010-01-16</td>\n",
       "      <td>PLUMBING</td>\n",
       "      <td>RESIDENTIAL BUILDING</td>\n",
       "      <td>11106.0</td>\n",
       "      <td>31-54 29 STREET</td>\n",
       "      <td>29 STREET</td>\n",
       "      <td>ADDRESS</td>\n",
       "      <td>ASTORIA</td>\n",
       "      <td>Closed</td>\n",
       "      <td>The Department of Housing Preservation and Dev...</td>\n",
       "      <td>Unspecified</td>\n",
       "      <td>40.764035</td>\n",
       "      <td>-73.925935</td>\n",
       "      <td>{'latitude': '40.76403512691401', 'longitude':...</td>\n",
       "    </tr>\n",
       "    <tr>\n",
       "      <td>2</td>\n",
       "      <td>2</td>\n",
       "      <td>15630099</td>\n",
       "      <td>2010-01-01</td>\n",
       "      <td>2010-01-01</td>\n",
       "      <td>HEATING</td>\n",
       "      <td>RESIDENTIAL BUILDING</td>\n",
       "      <td>10466.0</td>\n",
       "      <td>1405 EAST 233 STREET</td>\n",
       "      <td>EAST 233 STREET</td>\n",
       "      <td>ADDRESS</td>\n",
       "      <td>BRONX</td>\n",
       "      <td>Closed</td>\n",
       "      <td>The Department of Housing Preservation and Dev...</td>\n",
       "      <td>Unspecified</td>\n",
       "      <td>40.888997</td>\n",
       "      <td>-73.836192</td>\n",
       "      <td>{'latitude': '40.88899738452758', 'longitude':...</td>\n",
       "    </tr>\n",
       "    <tr>\n",
       "      <td>3</td>\n",
       "      <td>3</td>\n",
       "      <td>15630315</td>\n",
       "      <td>2010-01-01</td>\n",
       "      <td>2010-01-16</td>\n",
       "      <td>PLUMBING</td>\n",
       "      <td>RESIDENTIAL BUILDING</td>\n",
       "      <td>11106.0</td>\n",
       "      <td>31-54 29 STREET</td>\n",
       "      <td>29 STREET</td>\n",
       "      <td>ADDRESS</td>\n",
       "      <td>ASTORIA</td>\n",
       "      <td>Closed</td>\n",
       "      <td>The Department of Housing Preservation and Dev...</td>\n",
       "      <td>Unspecified</td>\n",
       "      <td>40.764035</td>\n",
       "      <td>-73.925935</td>\n",
       "      <td>{'latitude': '40.76403512691401', 'longitude':...</td>\n",
       "    </tr>\n",
       "    <tr>\n",
       "      <td>4</td>\n",
       "      <td>4</td>\n",
       "      <td>15630431</td>\n",
       "      <td>2010-01-01</td>\n",
       "      <td>2010-01-02</td>\n",
       "      <td>HEATING</td>\n",
       "      <td>RESIDENTIAL BUILDING</td>\n",
       "      <td>11226.0</td>\n",
       "      <td>22 MARTENSE STREET</td>\n",
       "      <td>MARTENSE STREET</td>\n",
       "      <td>ADDRESS</td>\n",
       "      <td>BROOKLYN</td>\n",
       "      <td>Closed</td>\n",
       "      <td>More than one complaint was received for this ...</td>\n",
       "      <td>Unspecified</td>\n",
       "      <td>40.651236</td>\n",
       "      <td>-73.958293</td>\n",
       "      <td>{'latitude': '40.65123611619841', 'longitude':...</td>\n",
       "    </tr>\n",
       "  </tbody>\n",
       "</table>\n",
       "</div>"
      ],
      "text/plain": [
       "   Unnamed: 0  unique_key created_date closed_date complaint_type  \\\n",
       "0           0    15629728   2010-01-01  2010-01-12        HEATING   \n",
       "1           1    15629899   2010-01-01  2010-01-16       PLUMBING   \n",
       "2           2    15630099   2010-01-01  2010-01-01        HEATING   \n",
       "3           3    15630315   2010-01-01  2010-01-16       PLUMBING   \n",
       "4           4    15630431   2010-01-01  2010-01-02        HEATING   \n",
       "\n",
       "          location_type  incident_zip      incident_address      street_name  \\\n",
       "0  RESIDENTIAL BUILDING       11210.0    3101 FOSTER AVENUE    FOSTER AVENUE   \n",
       "1  RESIDENTIAL BUILDING       11106.0       31-54 29 STREET        29 STREET   \n",
       "2  RESIDENTIAL BUILDING       10466.0  1405 EAST 233 STREET  EAST 233 STREET   \n",
       "3  RESIDENTIAL BUILDING       11106.0       31-54 29 STREET        29 STREET   \n",
       "4  RESIDENTIAL BUILDING       11226.0    22 MARTENSE STREET  MARTENSE STREET   \n",
       "\n",
       "  address_type      city  status  \\\n",
       "0      ADDRESS  BROOKLYN  Closed   \n",
       "1      ADDRESS   ASTORIA  Closed   \n",
       "2      ADDRESS     BRONX  Closed   \n",
       "3      ADDRESS   ASTORIA  Closed   \n",
       "4      ADDRESS  BROOKLYN  Closed   \n",
       "\n",
       "                              resolution_description      borough   latitude  \\\n",
       "0  The Department of Housing Preservation and Dev...  Unspecified  40.638696   \n",
       "1  The Department of Housing Preservation and Dev...  Unspecified  40.764035   \n",
       "2  The Department of Housing Preservation and Dev...  Unspecified  40.888997   \n",
       "3  The Department of Housing Preservation and Dev...  Unspecified  40.764035   \n",
       "4  More than one complaint was received for this ...  Unspecified  40.651236   \n",
       "\n",
       "   longitude                                           location  \n",
       "0 -73.946969  {'latitude': '40.6386960194481', 'longitude': ...  \n",
       "1 -73.925935  {'latitude': '40.76403512691401', 'longitude':...  \n",
       "2 -73.836192  {'latitude': '40.88899738452758', 'longitude':...  \n",
       "3 -73.925935  {'latitude': '40.76403512691401', 'longitude':...  \n",
       "4 -73.958293  {'latitude': '40.65123611619841', 'longitude':...  "
      ]
     },
     "execution_count": 7,
     "metadata": {},
     "output_type": "execute_result"
    }
   ],
   "source": [
    "# Print the first 5 row of data\n",
    "HPD_df.head(5)"
   ]
  },
  {
   "cell_type": "code",
   "execution_count": 8,
   "metadata": {},
   "outputs": [
    {
     "data": {
      "text/plain": [
       "(6041299, 17)"
      ]
     },
     "execution_count": 8,
     "metadata": {},
     "output_type": "execute_result"
    }
   ],
   "source": [
    "# Print number of rows and columns (dataframe shape)\n",
    "HPD_df.shape"
   ]
  },
  {
   "cell_type": "code",
   "execution_count": 9,
   "metadata": {},
   "outputs": [
    {
     "name": "stdout",
     "output_type": "stream",
     "text": [
      "<class 'pandas.core.frame.DataFrame'>\n",
      "RangeIndex: 6041299 entries, 0 to 6041298\n",
      "Data columns (total 17 columns):\n",
      "Unnamed: 0                int64\n",
      "unique_key                int64\n",
      "created_date              datetime64[ns]\n",
      "closed_date               datetime64[ns]\n",
      "complaint_type            object\n",
      "location_type             object\n",
      "incident_zip              float64\n",
      "incident_address          object\n",
      "street_name               object\n",
      "address_type              object\n",
      "city                      object\n",
      "status                    object\n",
      "resolution_description    object\n",
      "borough                   object\n",
      "latitude                  float64\n",
      "longitude                 float64\n",
      "location                  object\n",
      "dtypes: datetime64[ns](2), float64(3), int64(2), object(10)\n",
      "memory usage: 783.6+ MB\n"
     ]
    }
   ],
   "source": [
    "# To get a concise summary of the dataframe\n",
    "HPD_df.info()"
   ]
  },
  {
   "cell_type": "markdown",
   "metadata": {},
   "source": [
    "\n",
    "The dataset has 6036282 examples and 17 columns. 10 of the columns are objects, 2 are integers, 3 are floats, and 2 are datetimes."
   ]
  },
  {
   "cell_type": "markdown",
   "metadata": {},
   "source": [
    "It is also better to check missing data, so let's get nan values in the dataset and their percentage of the each column:"
   ]
  },
  {
   "cell_type": "code",
   "execution_count": 10,
   "metadata": {},
   "outputs": [
    {
     "data": {
      "text/plain": [
       "Unnamed: 0                     0\n",
       "unique_key                     0\n",
       "created_date                   0\n",
       "closed_date               125878\n",
       "complaint_type                 0\n",
       "location_type              52830\n",
       "incident_zip               80708\n",
       "incident_address           52831\n",
       "street_name                52831\n",
       "address_type               84771\n",
       "city                       80284\n",
       "status                         0\n",
       "resolution_description      7823\n",
       "borough                        0\n",
       "latitude                   80682\n",
       "longitude                  80682\n",
       "location                   80682\n",
       "dtype: int64"
      ]
     },
     "execution_count": 10,
     "metadata": {},
     "output_type": "execute_result"
    }
   ],
   "source": [
    "#To get nan values in the entire dataset\n",
    "HPD_df.isnull().sum()"
   ]
  },
  {
   "cell_type": "code",
   "execution_count": 11,
   "metadata": {},
   "outputs": [
    {
     "data": {
      "text/html": [
       "<div>\n",
       "<style scoped>\n",
       "    .dataframe tbody tr th:only-of-type {\n",
       "        vertical-align: middle;\n",
       "    }\n",
       "\n",
       "    .dataframe tbody tr th {\n",
       "        vertical-align: top;\n",
       "    }\n",
       "\n",
       "    .dataframe thead th {\n",
       "        text-align: right;\n",
       "    }\n",
       "</style>\n",
       "<table border=\"1\" class=\"dataframe\">\n",
       "  <thead>\n",
       "    <tr style=\"text-align: right;\">\n",
       "      <th></th>\n",
       "      <th>Total</th>\n",
       "      <th>Percent</th>\n",
       "    </tr>\n",
       "  </thead>\n",
       "  <tbody>\n",
       "    <tr>\n",
       "      <td>closed_date</td>\n",
       "      <td>125878</td>\n",
       "      <td>0.020836</td>\n",
       "    </tr>\n",
       "    <tr>\n",
       "      <td>address_type</td>\n",
       "      <td>84771</td>\n",
       "      <td>0.014032</td>\n",
       "    </tr>\n",
       "    <tr>\n",
       "      <td>incident_zip</td>\n",
       "      <td>80708</td>\n",
       "      <td>0.013359</td>\n",
       "    </tr>\n",
       "    <tr>\n",
       "      <td>location</td>\n",
       "      <td>80682</td>\n",
       "      <td>0.013355</td>\n",
       "    </tr>\n",
       "    <tr>\n",
       "      <td>longitude</td>\n",
       "      <td>80682</td>\n",
       "      <td>0.013355</td>\n",
       "    </tr>\n",
       "    <tr>\n",
       "      <td>latitude</td>\n",
       "      <td>80682</td>\n",
       "      <td>0.013355</td>\n",
       "    </tr>\n",
       "    <tr>\n",
       "      <td>city</td>\n",
       "      <td>80284</td>\n",
       "      <td>0.013289</td>\n",
       "    </tr>\n",
       "    <tr>\n",
       "      <td>incident_address</td>\n",
       "      <td>52831</td>\n",
       "      <td>0.008745</td>\n",
       "    </tr>\n",
       "    <tr>\n",
       "      <td>street_name</td>\n",
       "      <td>52831</td>\n",
       "      <td>0.008745</td>\n",
       "    </tr>\n",
       "    <tr>\n",
       "      <td>location_type</td>\n",
       "      <td>52830</td>\n",
       "      <td>0.008745</td>\n",
       "    </tr>\n",
       "    <tr>\n",
       "      <td>resolution_description</td>\n",
       "      <td>7823</td>\n",
       "      <td>0.001295</td>\n",
       "    </tr>\n",
       "    <tr>\n",
       "      <td>status</td>\n",
       "      <td>0</td>\n",
       "      <td>0.000000</td>\n",
       "    </tr>\n",
       "    <tr>\n",
       "      <td>complaint_type</td>\n",
       "      <td>0</td>\n",
       "      <td>0.000000</td>\n",
       "    </tr>\n",
       "    <tr>\n",
       "      <td>borough</td>\n",
       "      <td>0</td>\n",
       "      <td>0.000000</td>\n",
       "    </tr>\n",
       "    <tr>\n",
       "      <td>created_date</td>\n",
       "      <td>0</td>\n",
       "      <td>0.000000</td>\n",
       "    </tr>\n",
       "    <tr>\n",
       "      <td>unique_key</td>\n",
       "      <td>0</td>\n",
       "      <td>0.000000</td>\n",
       "    </tr>\n",
       "    <tr>\n",
       "      <td>Unnamed: 0</td>\n",
       "      <td>0</td>\n",
       "      <td>0.000000</td>\n",
       "    </tr>\n",
       "  </tbody>\n",
       "</table>\n",
       "</div>"
      ],
      "text/plain": [
       "                         Total   Percent\n",
       "closed_date             125878  0.020836\n",
       "address_type             84771  0.014032\n",
       "incident_zip             80708  0.013359\n",
       "location                 80682  0.013355\n",
       "longitude                80682  0.013355\n",
       "latitude                 80682  0.013355\n",
       "city                     80284  0.013289\n",
       "incident_address         52831  0.008745\n",
       "street_name              52831  0.008745\n",
       "location_type            52830  0.008745\n",
       "resolution_description    7823  0.001295\n",
       "status                       0  0.000000\n",
       "complaint_type               0  0.000000\n",
       "borough                      0  0.000000\n",
       "created_date                 0  0.000000\n",
       "unique_key                   0  0.000000\n",
       "Unnamed: 0                   0  0.000000"
      ]
     },
     "execution_count": 11,
     "metadata": {},
     "output_type": "execute_result"
    }
   ],
   "source": [
    "#missing data\n",
    "total = HPD_df.isnull().sum().sort_values(ascending=False)\n",
    "percent = (HPD_df.isnull().sum()/HPD_df.isnull().count()).sort_values(ascending=False)\n",
    "missing_data = pd.concat([total, percent], axis=1, keys=['Total', 'Percent'])\n",
    "missing_data.head(20)"
   ]
  },
  {
   "cell_type": "markdown",
   "metadata": {},
   "source": [
    "This result shows that we do not have big amount missing value column. If some necessary change requires for future analysis we can do it later. Therefore, we can prefer to keep the columns as they are."
   ]
  },
  {
   "cell_type": "code",
   "execution_count": 12,
   "metadata": {},
   "outputs": [
    {
     "data": {
      "text/plain": [
       "array(['HEATING', 'PLUMBING', 'HPD Literature Request', 'PAINT - PLASTER',\n",
       "       'GENERAL CONSTRUCTION', 'NONCONST', 'CONSTRUCTION', 'ELECTRIC',\n",
       "       'APPLIANCE', 'PAINT/PLASTER', 'GENERAL', 'STRUCTURAL', 'SAFETY',\n",
       "       'UNSANITARY CONDITION', 'WATER LEAK', 'DOOR/WINDOW',\n",
       "       'FLOORING/STAIRS', 'HEAT/HOT WATER', 'OUTSIDE BUILDING',\n",
       "       'ELEVATOR', 'VACANT APARTMENT', 'AGENCY', 'Unsanitary Condition',\n",
       "       'General', 'Safety', 'Outside Building', 'Plumbing', 'Appliance',\n",
       "       'Electric', 'Mold'], dtype=object)"
      ]
     },
     "execution_count": 12,
     "metadata": {},
     "output_type": "execute_result"
    }
   ],
   "source": [
    "HPD_df['complaint_type'].unique()"
   ]
  },
  {
   "cell_type": "markdown",
   "metadata": {},
   "source": [
    "To find the most frequent complaints, let's use value_counts() as the following:"
   ]
  },
  {
   "cell_type": "code",
   "execution_count": 13,
   "metadata": {
    "scrolled": true
   },
   "outputs": [
    {
     "data": {
      "text/plain": [
       "HEAT/HOT WATER            1275996\n",
       "HEATING                    887869\n",
       "PLUMBING                   712114\n",
       "GENERAL CONSTRUCTION       500863\n",
       "UNSANITARY CONDITION       453507\n",
       "PAINT - PLASTER            361257\n",
       "PAINT/PLASTER              347055\n",
       "ELECTRIC                   307803\n",
       "NONCONST                   260890\n",
       "DOOR/WINDOW                206017\n",
       "WATER LEAK                 194326\n",
       "GENERAL                    151910\n",
       "FLOORING/STAIRS            137680\n",
       "APPLIANCE                  113286\n",
       "HPD Literature Request      52830\n",
       "SAFETY                      51760\n",
       "OUTSIDE BUILDING             7157\n",
       "ELEVATOR                     6759\n",
       "Unsanitary Condition         5499\n",
       "CONSTRUCTION                 5078\n",
       "General                      1163\n",
       "Safety                        424\n",
       "STRUCTURAL                     16\n",
       "Plumbing                       11\n",
       "AGENCY                          9\n",
       "VACANT APARTMENT                8\n",
       "Outside Building                6\n",
       "Appliance                       4\n",
       "Electric                        1\n",
       "Mold                            1\n",
       "Name: complaint_type, dtype: int64"
      ]
     },
     "execution_count": 13,
     "metadata": {},
     "output_type": "execute_result"
    }
   ],
   "source": [
    "complaint_type = HPD_df['complaint_type'].value_counts()\n",
    "complaint_type = complaint_type.sort_values(ascending=False)\n",
    "complaint_type"
   ]
  },
  {
   "cell_type": "code",
   "execution_count": 14,
   "metadata": {},
   "outputs": [
    {
     "data": {
      "image/png": "[encoded data removed]",
      "text/plain": [
       "<Figure size 720x720 with 1 Axes>"
      ]
     },
     "metadata": {
      "needs_background": "light"
     },
     "output_type": "display_data"
    }
   ],
   "source": [
    "complaint_type.sort_values()\n",
    "complaint_type.plot(kind='barh',alpha=0.5,figsize=(10,10),fontsize=12)\n",
    "plt.gca().invert_yaxis()\n",
    "plt.xlabel('Number of Complaints', fontsize=16)\n",
    "plt.title('Complaints type', fontsize=16)\n",
    "plt.show()"
   ]
  },
  {
   "cell_type": "markdown",
   "metadata": {},
   "source": [
    "From the bar graph and the previous cell, we can easily see that **Heat/Hot Water is severe problem in the Department of HPD.**\n",
    "\n",
    "Let's also do a further analysis to see how these complaints are changing based on the created year and month. To do so, we need to split month and year value from the created_date column. The following cell shows creating new columns for complaint year and month:"
   ]
  },
  {
   "cell_type": "code",
   "execution_count": 15,
   "metadata": {},
   "outputs": [],
   "source": [
    "HPD_df['complaint_year'] = HPD_df['created_date'].dt.year\n",
    "HPD_df['complaint_month'] = HPD_df['created_date'].dt.month"
   ]
  },
  {
   "cell_type": "code",
   "execution_count": 16,
   "metadata": {},
   "outputs": [
    {
     "data": {
      "text/plain": [
       "complaint_year  complaint_type      \n",
       "2010            HEATING                 214218\n",
       "                GENERAL CONSTRUCTION    127131\n",
       "                PLUMBING                111504\n",
       "                PAINT - PLASTER          93194\n",
       "                NONCONST                 69659\n",
       "                                         ...  \n",
       "2020            APPLIANCE                 1154\n",
       "                FLOORING/STAIRS            719\n",
       "                SAFETY                     552\n",
       "                ELEVATOR                    92\n",
       "                OUTSIDE BUILDING            46\n",
       "Name: complaint_type, Length: 163, dtype: int64"
      ]
     },
     "execution_count": 16,
     "metadata": {},
     "output_type": "execute_result"
    }
   ],
   "source": [
    "complaint_year_type = HPD_df.groupby(\"complaint_year\")[\"complaint_type\"].value_counts()\n",
    "complaint_year_type"
   ]
  },
  {
   "cell_type": "code",
   "execution_count": 17,
   "metadata": {
    "scrolled": false
   },
   "outputs": [
    {
     "data": {
      "text/plain": [
       "<matplotlib.axes._subplots.AxesSubplot at 0x1bf0e1a590>"
      ]
     },
     "execution_count": 17,
     "metadata": {},
     "output_type": "execute_result"
    },
    {
     "data": {
      "image/png": "[encoded data removed]",
      "text/plain": [
       "<Figure size 432x288 with 1 Axes>"
      ]
     },
     "metadata": {
      "needs_background": "light"
     },
     "output_type": "display_data"
    }
   ],
   "source": [
    "HPD_df.groupby('complaint_year').complaint_type.value_counts().nlargest(5).unstack().plot.barh(fontsize=12)"
   ]
  },
  {
   "cell_type": "markdown",
   "metadata": {},
   "source": [
    "HEAT/HOT WATER complaint column has been merged with HEATING after 2014 if we read the New York City 311 data file. Also, the bar plot above proofs this. Let’s also see monthly occurred severe complaint type as following. "
   ]
  },
  {
   "cell_type": "code",
   "execution_count": 18,
   "metadata": {},
   "outputs": [
    {
     "data": {
      "text/plain": [
       "<matplotlib.axes._subplots.AxesSubplot at 0x1c5206c290>"
      ]
     },
     "execution_count": 18,
     "metadata": {},
     "output_type": "execute_result"
    },
    {
     "data": {
      "image/png": "[encoded data removed]",
      "text/plain": [
       "<Figure size 432x288 with 1 Axes>"
      ]
     },
     "metadata": {
      "needs_background": "light"
     },
     "output_type": "display_data"
    }
   ],
   "source": [
    "HPD_df.groupby('complaint_type').complaint_month.value_counts().nlargest(5).unstack().plot.barh(fontsize=12)"
   ]
  },
  {
   "cell_type": "markdown",
   "metadata": {},
   "source": [
    "This is also **another proof that complaint type heating / heat-hot water occurs during the cold weather.**\n",
    "\n",
    "##### Conclusion for Question 1: \n",
    "\n",
    "**HEAT/HOT water complaint has the maximum number of complaints from the category. Therefore, HPD’s priority should be the HEAT/HOT WATER complaint. They have specifically focussed on the winter season for this problem.**"
   ]
  }
 ],
 "metadata": {
  "kernelspec": {
   "display_name": "Python 3",
   "language": "python",
   "name": "python3"
  },
  "language_info": {
   "codemirror_mode": {
    "name": "ipython",
    "version": 3
   },
   "file_extension": ".py",
   "mimetype": "text/x-python",
   "name": "python",
   "nbconvert_exporter": "python",
   "pygments_lexer": "ipython3",
   "version": "3.7.4"
  }
 },
 "nbformat": 4,
 "nbformat_minor": 2
}
